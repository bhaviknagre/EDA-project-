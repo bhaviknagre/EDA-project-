{
  "nbformat": 4,
  "nbformat_minor": 0,
  "metadata": {
    "colab": {
      "private_outputs": true,
      "provenance": [],
      "collapsed_sections": [
        "PH-0ReGfmX4f",
        "M7G43BXep1ck",
        "3MPXvC8up1cl",
        "gIfDvo9L0UH2"
      ]
    },
    "kernelspec": {
      "name": "python3",
      "display_name": "Python 3"
    },
    "language_info": {
      "name": "python"
    }
  },
  "cells": [
    {
      "cell_type": "markdown",
      "source": [
        "# **Project Name**    -\n",
        "\n"
      ],
      "metadata": {
        "id": "vncDsAP0Gaoa"
      }
    },
    {
      "cell_type": "markdown",
      "source": [
        "\n",
        " **Project Type**    - Hotel Booking Analysis  Exploratory Data Analysis\n",
        "\n",
        "\n",
        "##### **Contribution**    - Individual\n",
        "\n"
      ],
      "metadata": {
        "id": "beRrZCGUAJYm"
      }
    },
    {
      "cell_type": "markdown",
      "source": [
        "# **Project Summary -**"
      ],
      "metadata": {
        "id": "FJNUwmbgGyua"
      }
    },
    {
      "cell_type": "markdown",
      "source": [
        "Almabetter Hotel booking EDA project using python. This project relates to hotel reservations and includes a variety of city hotels and resort hotels. There are 32 columns and a total of 119390 rows in this dataset. Data collection,data cleansing and manipulation,and EDA(Exploratary Data Analysis) are three categories into which the workflow for data manipulation is divided. The names of some of the columns,including hotel,is_canceled,lead_time,arrival_date_year,arrival_date_month,arrival_date_week_number,arrival_date_day_of_month,and stays_in_weekend_nights,have been updated as the data collection process has progressed. This is done by coding Head(),Tail(),info(),describe(),columns(),and other methods used for data collection. AS we proceed,we identify the distinct value for each column,create a list in tabular format,and also verify the dataset type for each column. Identify some columns with inaccurate data types and fix them afterward. As we discover duplicate items totaling 87396,which are later discarded from the dataset,duplicate data items must also be removed during the data cleaning phase.\n",
        "\n",
        "We must first perform data maipulation before visualizing any data from the data source. To do that,we examined each columns null value. After checking drop the column using the 'drop' method if we find one that has a greater percentage of null values. We are so removed from the 'company' column. When there are only a few null values. We fill those null values with the necessary values using the formula.fill().\n",
        "\n",
        "To acheive greater understanding and business goals,many charts are utilized for data visualization.\n",
        "\n"
      ],
      "metadata": {
        "id": "F6v_1wHtG2nS"
      }
    },
    {
      "cell_type": "markdown",
      "source": [
        "# **GitHub Link -**"
      ],
      "metadata": {
        "id": "w6K7xa23Elo4"
      }
    },
    {
      "cell_type": "markdown",
      "source": [
        "https://github.com/bhaviknagre/Hotel-Analysis-Project.git"
      ],
      "metadata": {
        "id": "h1o69JH3Eqqn"
      }
    },
    {
      "cell_type": "markdown",
      "source": [
        "# **Problem Statement**\n"
      ],
      "metadata": {
        "id": "yQaldy8SH6Dl"
      }
    },
    {
      "cell_type": "markdown",
      "source": [
        "** The problem is to conduct an exploratory data analysis (EDA) on hotel booking data to gain valuable insights into booking patterns, customer preferences, and trends. This analysis aims to provide important information to hotel management enhance customer satisfaction, and maximize revenue for the hotel.**"
      ],
      "metadata": {
        "id": "DpeJGUA3kjGy"
      }
    },
    {
      "cell_type": "markdown",
      "source": [
        "#### **Define Your Business Objective?**"
      ],
      "metadata": {
        "id": "PH-0ReGfmX4f"
      }
    },
    {
      "cell_type": "markdown",
      "source": [
        "** This analysis will help the hotel management team to increase the revenue generation by using the data, it will also help in risk mangement of the customer booking cancellation,it will help in finding the unique selling or market prespective also by analyzing the review and customer feedback management can work of the weak part.**\n",
        "\n",
        "\n",
        "\n"
      ],
      "metadata": {
        "id": "PhDvGCAqmjP1"
      }
    },
    {
      "cell_type": "markdown",
      "source": [
        "# **General Guidelines** : -  "
      ],
      "metadata": {
        "id": "mDgbUHAGgjLW"
      }
    },
    {
      "cell_type": "markdown",
      "source": [
        "1.   Well-structured, formatted, and commented code is required.\n",
        "2.   Exception Handling, Production Grade Code & Deployment Ready Code will be a plus. Those students will be awarded some additional credits.\n",
        "     \n",
        "     The additional credits will have advantages over other students during Star Student selection.\n",
        "       \n",
        "             [ Note: - Deployment Ready Code is defined as, the whole .ipynb notebook should be executable in one go\n",
        "                       without a single error logged. ]\n",
        "\n",
        "3.   Each and every logic should have proper comments.\n",
        "4. You may add as many number of charts you want. Make Sure for each and every chart the following format should be answered.\n",
        "        \n",
        "\n",
        "```\n",
        "# Chart visualization code\n",
        "```\n",
        "            \n",
        "\n",
        "*   Why did you pick the specific chart?\n",
        "*   What is/are the insight(s) found from the chart?\n",
        "* Will the gained insights help creating a positive business impact?\n",
        "Are there any insights that lead to negative growth? Justify with specific reason.\n",
        "\n",
        "5. You have to create at least 20 logical & meaningful charts having important insights.\n",
        "\n",
        "\n",
        "[ Hints : - Do the Vizualization in  a structured way while following \"UBM\" Rule.\n",
        "\n",
        "U - Univariate Analysis,\n",
        "\n",
        "B - Bivariate Analysis (Numerical - Categorical, Numerical - Numerical, Categorical - Categorical)\n",
        "\n",
        "M - Multivariate Analysis\n",
        " ]\n",
        "\n",
        "\n",
        "\n"
      ],
      "metadata": {
        "id": "ZrxVaUj-hHfC"
      }
    },
    {
      "cell_type": "markdown",
      "source": [
        "# ***Let's Begin !***"
      ],
      "metadata": {
        "id": "O_i_v8NEhb9l"
      }
    },
    {
      "cell_type": "markdown",
      "source": [
        "## ***1. Know Your Data***"
      ],
      "metadata": {
        "id": "HhfV-JJviCcP"
      }
    },
    {
      "cell_type": "markdown",
      "source": [
        "### Import Libraries"
      ],
      "metadata": {
        "id": "Y3lxredqlCYt"
      }
    },
    {
      "cell_type": "code",
      "source": [
        "!pip install pandas"
      ],
      "metadata": {
        "id": "ofzVPKg-nCxg"
      },
      "execution_count": null,
      "outputs": []
    },
    {
      "cell_type": "code",
      "source": [
        "# Import Libraries\n",
        "#this are the some libraries which will are required for analysis\n",
        "import numpy as np\n",
        "import pandas as pd\n",
        "import matplotlib.pyplot as plt\n",
        "import seaborn as sns\n"
      ],
      "metadata": {
        "id": "M8Vqi-pPk-HR"
      },
      "execution_count": null,
      "outputs": []
    },
    {
      "cell_type": "markdown",
      "source": [
        "### Dataset Loading"
      ],
      "metadata": {
        "id": "3RnN4peoiCZX"
      }
    },
    {
      "cell_type": "code",
      "source": [
        "# Load Dataset\n",
        "from google.colab import drive\n",
        "drive.mount('/content/drive')"
      ],
      "metadata": {
        "id": "4CkvbW_SlZ_R"
      },
      "execution_count": null,
      "outputs": []
    },
    {
      "cell_type": "code",
      "source": [
        "path = '/content/drive/MyDrive/Colab Notebooks/Hotel Bookings.csv'\n",
        "read_data = pd.read_csv(path)"
      ],
      "metadata": {
        "id": "xX0jobDIMM5c"
      },
      "execution_count": null,
      "outputs": []
    },
    {
      "cell_type": "markdown",
      "source": [
        "### Dataset First View"
      ],
      "metadata": {
        "id": "x71ZqKXriCWQ"
      }
    },
    {
      "cell_type": "code",
      "source": [
        "# Dataset First Look\n",
        "read_data\n"
      ],
      "metadata": {
        "id": "LWNFOSvLl09H"
      },
      "execution_count": null,
      "outputs": []
    },
    {
      "cell_type": "markdown",
      "source": [
        "### Dataset Rows & Columns count"
      ],
      "metadata": {
        "id": "7hBIi_osiCS2"
      }
    },
    {
      "cell_type": "code",
      "source": [
        "# Dataset Rows & Columns count\n",
        "read_data.shape"
      ],
      "metadata": {
        "id": "Kllu7SJgmLij"
      },
      "execution_count": null,
      "outputs": []
    },
    {
      "cell_type": "code",
      "source": [
        "print(\"Number of rows present in the dataset is\",read_data.shape[0])\n",
        "print(\"Number of columns present in the dataset is\",read_data.shape[1])"
      ],
      "metadata": {
        "id": "xa-tHlbMMys1"
      },
      "execution_count": null,
      "outputs": []
    },
    {
      "cell_type": "markdown",
      "source": [
        "### Dataset Information"
      ],
      "metadata": {
        "id": "JlHwYmJAmNHm"
      }
    },
    {
      "cell_type": "code",
      "source": [
        "# Dataset Info\n",
        "#it hells in showing the data types non-null count\n",
        "read_data.info()\n"
      ],
      "metadata": {
        "id": "e9hRXRi6meOf"
      },
      "execution_count": null,
      "outputs": []
    },
    {
      "cell_type": "markdown",
      "source": [
        "#### Duplicate Values"
      ],
      "metadata": {
        "id": "35m5QtbWiB9F"
      }
    },
    {
      "cell_type": "code",
      "source": [
        "# Dataset Duplicate Value Count\n",
        "read_data.drop_duplicates(inplace = True)"
      ],
      "metadata": {
        "id": "1sLdpKYkmox0"
      },
      "execution_count": null,
      "outputs": []
    },
    {
      "cell_type": "code",
      "source": [
        "read_data.shape"
      ],
      "metadata": {
        "id": "t5yp0SFng6zB"
      },
      "execution_count": null,
      "outputs": []
    },
    {
      "cell_type": "markdown",
      "source": [
        "#### Missing Values/Null Values"
      ],
      "metadata": {
        "id": "PoPl-ycgm1ru"
      }
    },
    {
      "cell_type": "code",
      "source": [
        "# Missing Values/Null Values Count\n",
        "read_data.fillna(np.nan,inplace =True)"
      ],
      "metadata": {
        "id": "GgHWkxvamxVg"
      },
      "execution_count": null,
      "outputs": []
    },
    {
      "cell_type": "code",
      "source": [
        "read_data.isnull().sum().sort_values(ascending=False)"
      ],
      "metadata": {
        "id": "WL0yyfsjhp1y"
      },
      "execution_count": null,
      "outputs": []
    },
    {
      "cell_type": "code",
      "source": [
        "# Visualizing the missing values\n",
        "\n",
        "import numpy as np\n",
        "import seaborn as sns\n",
        "\n",
        "\n",
        "read_data.replace('unknown', np.nan, inplace=True)\n",
        "\n",
        "sns.heatmap(read_data[['company','agent','children']].isnull(), cmap='viridis')\n"
      ],
      "metadata": {
        "id": "3q5wnI3om9sJ"
      },
      "execution_count": null,
      "outputs": []
    },
    {
      "cell_type": "markdown",
      "source": [
        "### What did you know about your dataset?"
      ],
      "metadata": {
        "id": "H0kj-8xxnORC"
      }
    },
    {
      "cell_type": "markdown",
      "source": [
        "** The above data set is about the hotel booking by above data we can understand the number of rows and columns present in the data set also we tries to understand and insigts the data type and non-null values from data set. We also tries to visualize the non-null values of the data using  heatmap as it is provide the best and clear concise overview.**"
      ],
      "metadata": {
        "id": "gfoNAAC-nUe_"
      }
    },
    {
      "cell_type": "markdown",
      "source": [
        "## ***2. Understanding Your Variables***"
      ],
      "metadata": {
        "id": "nA9Y7ga8ng1Z"
      }
    },
    {
      "cell_type": "code",
      "source": [
        "# Dataset Columns\n",
        "read_data.columns"
      ],
      "metadata": {
        "id": "j7xfkqrt5Ag5"
      },
      "execution_count": null,
      "outputs": []
    },
    {
      "cell_type": "code",
      "source": [
        "# Dataset Describe\n",
        "read_data.describe(include='all')"
      ],
      "metadata": {
        "id": "DnOaZdaE5Q5t"
      },
      "execution_count": null,
      "outputs": []
    },
    {
      "cell_type": "markdown",
      "source": [
        "### Variables Description"
      ],
      "metadata": {
        "id": "PBTbrJXOngz2"
      }
    },
    {
      "cell_type": "markdown",
      "source": [
        "**Describe method provide all the statistical data of  a data set which helps us finding the insights such as mean,min,max of a particular columns.**\n",
        "\n",
        "The columns and the data it represents are listed below:\n",
        "\n",
        "1. **hotel**: Name of the hotel (Resort Hotel or City Hotel)\n",
        "\n",
        "2. **is_canceled**: If the booking was canceled (1) or not (D)\n",
        "\n",
        "3. **lead_time**: Number of days before the actual arrival of the quests\n",
        "\n",
        "4. **arrival_date_year**: Year of arrival date\n",
        "\n",
        "5. **arrival_date_month**: Month of month arrival date\n",
        "\n",
        "6. **arrival_date_week_number**: Week number of year for arrival date\n",
        "\n",
        "7. **arrival_date_day_of_month**: Day of arrival date\n",
        "\n",
        "8. **stays_in_weekend_nights**: Number of weekend nights (Saturday or Sunday) spent at the hotel by the guests.\n",
        "\n",
        "9. **stays_in_week_nights**: Number of weeknights (Monday to Friday) spent at the hotel by the guests.\n",
        "\n",
        "10. **adults**: Number of adults among guests\n",
        "\n",
        "11. **children**: Number of children among guests\n",
        "\n",
        "12. **babies**: Number of babies among guests\n",
        "\n",
        "13. **meal**: Type of meal booked\n",
        "\n",
        "14. **country**: Country of guests\n",
        "\n",
        "15. **market segment**: Designation of market segment\n",
        "\n",
        "16. **distribution_channel**: Name of booking distribution channel\n",
        "\n",
        "17. **is_repeated_guest**: If the booking was from a repeated quest (1) or not (0)\n",
        "\n",
        "18. **previous_cancellations**: Number of previous bookings that were cancelled by the customer prior to the current booking\n",
        "\n",
        "19. **previous bookings_not_canceled**: Number of previous bookings not cancelled by the customer prior to the current booking\n",
        "21. assigned_room_type: Code of room type assigned\n",
        "\n",
        "22. **booking changes**: Number of changes/amendments made to the booking\n",
        "\n",
        "23. **deposit type**: Type of the deposit made by the guest\n",
        "\n",
        "24. **agent**: ID of travel agent who made the booking\n",
        "\n",
        "25. **company**: ID of the company that made the booking\n",
        "\n",
        "26. **days_in_waiting list**: Number of days the booking was in the waiting list\n",
        "\n",
        "27. **customer_type**: Type of customer, assuming one of four cregories\n",
        "\n",
        "28. **adr**: Average Daily Rate, as defined by dividing the sum of all lodging transactions by the total number of staying nights\n",
        "\n",
        "29. **required_car_parking_spaces**: Number of car parking spaces required by the customer\n",
        "\n",
        "30. **total_of_special_requests**: Number of special requests made by the customer\n",
        "\n",
        "31. **reservation_status**: Reservation status (Canceled, Check-Out or No-Show)\n",
        "\n",
        "32. **reservation_status_date**: Date at which the last reservation status was updated\n"
      ],
      "metadata": {
        "id": "aJV4KIxSnxay"
      }
    },
    {
      "cell_type": "markdown",
      "source": [
        "### Check Unique Values for each variable."
      ],
      "metadata": {
        "id": "u3PMJOP6ngxN"
      }
    },
    {
      "cell_type": "code",
      "source": [
        "# Check Unique Values for each variable.\n",
        "read_data.columns"
      ],
      "metadata": {
        "id": "zms12Yq5n-jE"
      },
      "execution_count": null,
      "outputs": []
    },
    {
      "cell_type": "code",
      "source": [
        "# WE have find some important unique values from the variables present\n",
        "\n",
        "read_data.apply(lambda col: col.unique())\n"
      ],
      "metadata": {
        "id": "Tng9C3rZVRDP"
      },
      "execution_count": null,
      "outputs": []
    },
    {
      "cell_type": "markdown",
      "source": [
        "## 3. ***Data Wrangling***"
      ],
      "metadata": {
        "id": "dauF4eBmngu3"
      }
    },
    {
      "cell_type": "markdown",
      "source": [
        "### Data Wrangling Code"
      ],
      "metadata": {
        "id": "bKJF3rekwFvQ"
      }
    },
    {
      "cell_type": "code",
      "source": [
        "# Write your code to make your dataset analysis ready.\n",
        "print(read_data.isnull().sum().sort_values(ascending=False))"
      ],
      "metadata": {
        "id": "wk-9a2fpoLcV"
      },
      "execution_count": null,
      "outputs": []
    },
    {
      "cell_type": "code",
      "source": [
        "#check null vlues for agents and company\n",
        "print(\"Total null values for agent columns are:\",read_data['agent'].sum())\n",
        "print(\"Total null values for company columns are:\",read_data['company'].sum())"
      ],
      "metadata": {
        "id": "bI05CdnaSaaw"
      },
      "execution_count": null,
      "outputs": []
    },
    {
      "cell_type": "code",
      "source": [
        "# filling the missing values with zero as null value leads to inappropriate data analysis\n",
        "read_data['agent'].fillna(value=0,inplace=True)\n",
        "read_data['agent'].isnull().sum()"
      ],
      "metadata": {
        "id": "VKBoLhCVRp4r"
      },
      "execution_count": null,
      "outputs": []
    },
    {
      "cell_type": "code",
      "source": [
        "read_data['company'].fillna(value='unknown',inplace=True)\n",
        "read_data['company'].isnull().sum()"
      ],
      "metadata": {
        "id": "XjPuO6VDYHeA"
      },
      "execution_count": null,
      "outputs": []
    },
    {
      "cell_type": "code",
      "source": [
        "\n",
        "read_data['country'] = read_data['country'].astype('object')\n",
        "\n",
        "read_data['country'].fillna(value='unknown', inplace=True)\n"
      ],
      "metadata": {
        "id": "Utc-4U9Zo-JS"
      },
      "execution_count": null,
      "outputs": []
    },
    {
      "cell_type": "code",
      "source": [
        "# here we tries to add value for country as unknown or we can provide whatever is convinent\n",
        "read_data['country'].fillna(value='unknown',inplace=True)\n",
        "read_data['country'].isnull().sum()\n"
      ],
      "metadata": {
        "id": "vVUNvqMVXVRM"
      },
      "execution_count": null,
      "outputs": []
    },
    {
      "cell_type": "code",
      "source": [
        "read_data.isnull().sum().sort_values(ascending=False)"
      ],
      "metadata": {
        "id": "TS6iqqCHYOP4"
      },
      "execution_count": null,
      "outputs": []
    },
    {
      "cell_type": "code",
      "source": [
        "read_data.info()"
      ],
      "metadata": {
        "id": "bFoKbcZXrPBa"
      },
      "execution_count": null,
      "outputs": []
    },
    {
      "cell_type": "code",
      "source": [
        "#now we will try to check the total stays including week and weekends night\n",
        "read_data['total_stays_at_night'] = read_data['stays_in_week_nights'] + read_data['stays_in_weekend_nights']\n",
        "print(read_data['total_stays_at_night'])"
      ],
      "metadata": {
        "id": "Kfwx1AuBY8HA"
      },
      "execution_count": null,
      "outputs": []
    },
    {
      "cell_type": "code",
      "source": [
        "#we are checking the booking on week days and wekend\n",
        "\n",
        "\n",
        "# Convert arrival_date_year column to datetime object\n",
        "read_data['arrival_date_year'] = pd.to_datetime(read_data['arrival_date_year'])\n",
        "\n",
        "# Calculate number of bookings on weekends and weekdays\n",
        "weekend_bookings = read_data[(read_data['arrival_date_year'].dt.weekday >= 5) & (read_data['arrival_date_year'].dt.weekday <= 6)]\n",
        "weekday_bookings = read_data[(read_data['arrival_date_year'].dt.weekday < 5)]\n",
        "\n",
        "weekend_bookings_count = weekend_bookings.shape[0]\n",
        "weekday_bookings_count = weekday_bookings.shape[0]\n",
        "\n",
        "print(f\"Number of bookings on weekends: {weekend_bookings_count}\")\n",
        "print(f\"Number of bookings on weekdays: {weekday_bookings_count}\")"
      ],
      "metadata": {
        "id": "1Fus18_HZ2Z2"
      },
      "execution_count": null,
      "outputs": []
    },
    {
      "cell_type": "code",
      "source": [
        "#we find the total guest including adults, children,babies\n",
        "read_data['total_guest'] = read_data['adults'] + read_data['children'] + read_data['babies']\n",
        "print(\"total number of guest till the time visiting the hote are: \",read_data['total_guest'].sum())"
      ],
      "metadata": {
        "id": "Jm51hhH2Z205"
      },
      "execution_count": null,
      "outputs": []
    },
    {
      "cell_type": "code",
      "source": [
        "# we find the total bookings that are canceled and not canceled\n",
        "canceled_bookings = read_data['is_canceled'].replace([0,1],['canceled', 'not canceled']).value_counts()"
      ],
      "metadata": {
        "id": "sTbWMBhtZ3EO"
      },
      "execution_count": null,
      "outputs": []
    },
    {
      "cell_type": "code",
      "source": [
        "print(canceled_bookings)"
      ],
      "metadata": {
        "id": "aY7sDPHfZ3Hw"
      },
      "execution_count": null,
      "outputs": []
    },
    {
      "cell_type": "code",
      "source": [
        "#we find the booking cancelation of city and resort hotel\n",
        "\n",
        "result = read_data.groupby('hotel')['is_canceled'].apply(lambda x: x.replace([0,1],['canceled', 'not caanceled']))\n",
        "result = result.groupby(level=0).value_counts()\n",
        "print(result)"
      ],
      "metadata": {
        "id": "kq-2zkAIxLms"
      },
      "execution_count": null,
      "outputs": []
    },
    {
      "cell_type": "code",
      "source": [
        "#we find the total repeated guest in city and resort hotel\n",
        "\n",
        "result = read_data.groupby('hotel')['is_repeated_guest'].apply(lambda x: x.replace(['not canceled','is caanceled'],['not repeated', 'repeated']))\n",
        "result = result.groupby(level=0).value_counts()\n",
        "print(result)"
      ],
      "metadata": {
        "id": "cWkqyv7WuNS1"
      },
      "execution_count": null,
      "outputs": []
    },
    {
      "cell_type": "code",
      "source": [
        "total_adr = read_data.groupby('hotel')['adr'].sum()"
      ],
      "metadata": {
        "id": "GgXxqsq8vvo6"
      },
      "execution_count": null,
      "outputs": []
    },
    {
      "cell_type": "code",
      "source": [
        "print(total_adr)"
      ],
      "metadata": {
        "id": "fh-i_AWHvtuc"
      },
      "execution_count": null,
      "outputs": []
    },
    {
      "cell_type": "code",
      "source": [
        "read_data[['hotel','adr']]"
      ],
      "metadata": {
        "id": "jrCwAXQ4w2XJ"
      },
      "execution_count": null,
      "outputs": []
    },
    {
      "cell_type": "code",
      "source": [
        "#we have accessed the requirements on city and resort hotel\n",
        "\n",
        "read_data.groupby('hotel')['total_of_special_requests'].value_counts()"
      ],
      "metadata": {
        "id": "PcMj0fCk1oiI"
      },
      "execution_count": null,
      "outputs": []
    },
    {
      "cell_type": "code",
      "source": [
        "read_data['distribution_channel'].value_counts()"
      ],
      "metadata": {
        "id": "3u2vmkkg2mLd"
      },
      "execution_count": null,
      "outputs": []
    },
    {
      "cell_type": "markdown",
      "source": [
        "### What all manipulations have you done and insights you found?"
      ],
      "metadata": {
        "id": "MSa1f5Uengrz"
      }
    },
    {
      "cell_type": "markdown",
      "source": [
        "Answer Here."
      ],
      "metadata": {
        "id": "LbyXE7I1olp8"
      }
    },
    {
      "cell_type": "markdown",
      "source": [
        "## ***4. Data Vizualization, Storytelling & Experimenting with charts : Understand the relationships between variables***"
      ],
      "metadata": {
        "id": "GF8Ens_Soomf"
      }
    },
    {
      "cell_type": "markdown",
      "source": [
        "#### Chart - 1"
      ],
      "metadata": {
        "id": "0wOQAZs5pc--"
      }
    },
    {
      "cell_type": "code",
      "source": [
        "# Chart - 1 visualization code\n",
        "sizes = read_data['hotel'].value_counts()\n",
        "labels = read_data['hotel'].unique()\n",
        "\n",
        "plt.pie(sizes, labels=labels, autopct='%1.1f%%', startangle=90,)\n",
        "\n",
        "plt.legend(title=\"Hotels\",\n",
        "          loc=\"upper left\",\n",
        "          bbox_to_anchor=(1, 0))\n",
        "\n"
      ],
      "metadata": {
        "id": "7v_ESjsspbW7"
      },
      "execution_count": null,
      "outputs": []
    },
    {
      "cell_type": "markdown",
      "source": [
        "##### 1. Why did you pick the specific chart?"
      ],
      "metadata": {
        "id": "K5QZ13OEpz2H"
      }
    },
    {
      "cell_type": "markdown",
      "source": [
        "Pie charts can be useful for visualizing percentages of a set, and can be more visually appealing than other charts in certain situations of only two condition\n"
      ],
      "metadata": {
        "id": "XESiWehPqBRc"
      }
    },
    {
      "cell_type": "markdown",
      "source": [
        "##### 2. What is/are the insight(s) found from the chart?"
      ],
      "metadata": {
        "id": "lQ7QKXXCp7Bj"
      }
    },
    {
      "cell_type": "markdown",
      "source": [
        "The inside that comes out from analysis is that people preffered city hotel more than resort hotel and city hotels are most busy hotels"
      ],
      "metadata": {
        "id": "C_j1G7yiqdRP"
      }
    },
    {
      "cell_type": "markdown",
      "source": [
        "##### 3. Will the gained insights help creating a positive business impact?\n",
        "Are there any insights that lead to negative growth? Justify with specific reason."
      ],
      "metadata": {
        "id": "448CDAPjqfQr"
      }
    },
    {
      "cell_type": "markdown",
      "source": [
        "Yes, the insights gained from the analysis can help create a positive business impact for city hotels over resort hotels, given that people prefer city hotels more and they are the busiest. By focusing on the factors that make city hotels more appealing to customers, such as location and pricing hotel managers can attract more guests by providing some attractive features and increase revenue.  \n",
        "\n",
        "It can have negative impact if the reviews go ab=gainst the city hotels\n",
        "if the analysis shows that city hotels have lower customer satisfaction ratings compared to resort hotels, this could lead to negative growth"
      ],
      "metadata": {
        "id": "3cspy4FjqxJW"
      }
    },
    {
      "cell_type": "markdown",
      "source": [
        "#### Chart - 2"
      ],
      "metadata": {
        "id": "KSlN3yHqYklG"
      }
    },
    {
      "cell_type": "code",
      "source": [
        "# Chart - 2 visualization code\n",
        "\n",
        "sizes = read_data['is_canceled'].value_counts()\n",
        "labels = read_data['is_canceled'].unique()\n",
        "\n",
        "plt.pie(sizes, labels=labels, autopct='%1.1f%%', startangle=90,)\n",
        "\n",
        "plt.legend(title=\"cancellation\",\n",
        "          loc=\"upper left\",\n",
        "          bbox_to_anchor=(1, 0))\n",
        "\n"
      ],
      "metadata": {
        "id": "R4YgtaqtYklH"
      },
      "execution_count": null,
      "outputs": []
    },
    {
      "cell_type": "markdown",
      "source": [
        "##### 1. Why did you pick the specific chart?"
      ],
      "metadata": {
        "id": "t6dVpIINYklI"
      }
    },
    {
      "cell_type": "markdown",
      "source": [
        "**In this chart,we presented the cancellation rate of the hotels booking**"
      ],
      "metadata": {
        "id": "5aaW0BYyYklI"
      }
    },
    {
      "cell_type": "markdown",
      "source": [
        "##### 2. What is/are the insight(s) found from the chart?"
      ],
      "metadata": {
        "id": "ijmpgYnKYklI"
      }
    },
    {
      "cell_type": "markdown",
      "source": [
        "**Here,we found that overall more than 25% of booking got cancelled**"
      ],
      "metadata": {
        "id": "PSx9atu2YklI"
      }
    },
    {
      "cell_type": "markdown",
      "source": [
        "##### 3. Will the gained insights help creating a positive business impact?\n",
        "Are there any insights that lead to negative growth? Justify with specific reason."
      ],
      "metadata": {
        "id": "-JiQyfWJYklI"
      }
    },
    {
      "cell_type": "markdown",
      "source": [
        "**Here, we can see,that more than 27% booking getting cancelled.**\n",
        "**We can check the reason of cancellation of a booking & need to get this sort on business level**"
      ],
      "metadata": {
        "id": "BcBbebzrYklV"
      }
    },
    {
      "cell_type": "markdown",
      "source": [
        "#### Chart - 3"
      ],
      "metadata": {
        "id": "EM7whBJCYoAo"
      }
    },
    {
      "cell_type": "code",
      "source": [
        "# Chart - 3 visualization code\n",
        "import seaborn as sns\n",
        "import matplotlib.pyplot as plt\n",
        "\n",
        "sns.set(style=\"whitegrid\")\n",
        "\n",
        "plt.figure(figsize=(10, 7))\n",
        "sns.barplot(x=read_data[\"distribution_channel\"].value_counts().index,\n",
        "            y=read_data[\"distribution_channel\"].value_counts(),\n",
        "            palette=\"viridis\")\n",
        "\n",
        "plt.xlabel(\"Distribution Channel\")\n",
        "plt.ylabel(\"Count\")\n",
        "plt.title(\"Distribution of Channels\")\n",
        "\n",
        "\n",
        "plt.xticks(rotation=45)\n",
        "\n",
        "plt.show()\n",
        "\n"
      ],
      "metadata": {
        "id": "t6GMdE67YoAp"
      },
      "execution_count": null,
      "outputs": []
    },
    {
      "cell_type": "markdown",
      "source": [
        "##### 1. Why did you pick the specific chart?"
      ],
      "metadata": {
        "id": "fge-S5ZAYoAp"
      }
    },
    {
      "cell_type": "markdown",
      "source": [
        "The following chart represent maximum volume of booking done through which channel to represent the number in descending order chose bar graph"
      ],
      "metadata": {
        "id": "5dBItgRVYoAp"
      }
    },
    {
      "cell_type": "markdown",
      "source": [
        "##### 2. What is/are the insight(s) found from the chart?"
      ],
      "metadata": {
        "id": "85gYPyotYoAp"
      }
    },
    {
      "cell_type": "markdown",
      "source": [
        "**As clearly seen TA/TO(Tour of Agent & Tour of operator) is highest,recommending to continue booking through TA/TO**"
      ],
      "metadata": {
        "id": "4jstXR6OYoAp"
      }
    },
    {
      "cell_type": "markdown",
      "source": [
        "##### 3. Will the gained insights help creating a positive business impact?\n",
        "Are there any insights that lead to negative growth? Justify with specific reason."
      ],
      "metadata": {
        "id": "RoGjAbkUYoAp"
      }
    },
    {
      "cell_type": "markdown",
      "source": [
        "**Yes this shows positive business impact.\n",
        "Higher the number of TA/TO will help to increase the revenue generation of hotel.**"
      ],
      "metadata": {
        "id": "zfJ8IqMcYoAp"
      }
    },
    {
      "cell_type": "markdown",
      "source": [
        "#### Chart - 4"
      ],
      "metadata": {
        "id": "4Of9eVA-YrdM"
      }
    },
    {
      "cell_type": "code",
      "source": [
        "# Chart - 4 visualization code\n",
        "\n",
        "import matplotlib.pyplot as plt\n",
        "\n",
        "sizes = read_data['arrival_date_month'].value_counts()\n",
        "labels = read_data['arrival_date_month'].unique()\n",
        "\n",
        "plt.figure(figsize=(8, 8))\n",
        "\n",
        "plt.pie(sizes, labels=labels, autopct='%1.1f%%',startangle=30)\n",
        "\n",
        "plt.legend(title=\"Months\",\n",
        "           loc=\"best\",\n",
        "           bbox_to_anchor=(1, 0.2))\n",
        "\n",
        "plt.title(\"Arrival Distribution by Month\",pad =50)\n",
        "\n",
        "plt.axis('equal')\n",
        "\n",
        "plt.show()\n"
      ],
      "metadata": {
        "id": "irlUoxc8YrdO"
      },
      "execution_count": null,
      "outputs": []
    },
    {
      "cell_type": "markdown",
      "source": [
        "##### 1. Why did you pick the specific chart?"
      ],
      "metadata": {
        "id": "iky9q4vBYrdO"
      }
    },
    {
      "cell_type": "markdown",
      "source": [
        "**To show the percentage share of booking inn each month,on overall level**"
      ],
      "metadata": {
        "id": "aJRCwT6DYrdO"
      }
    },
    {
      "cell_type": "markdown",
      "source": [
        "##### 2. What is/are the insight(s) found from the chart?"
      ],
      "metadata": {
        "id": "F6T5p64dYrdO"
      }
    },
    {
      "cell_type": "markdown",
      "source": [
        "**The above percentage shows month May, July and Aug are the highest booking months due to holiday season.Recommending aggressive advertisement to increase more and more customer**"
      ],
      "metadata": {
        "id": "Xx8WAJvtYrdO"
      }
    },
    {
      "cell_type": "markdown",
      "source": [
        "##### 3. Will the gained insights help creating a positive business impact?\n",
        "Are there any insights that lead to negative growth? Justify with specific reason."
      ],
      "metadata": {
        "id": "y-Ehk30pYrdP"
      }
    },
    {
      "cell_type": "markdown",
      "source": [
        "**Yes, with increased volume of visitors will help hotel to manage revenue in down time,will also help employee satisfaction and retention**"
      ],
      "metadata": {
        "id": "jLNxxz7MYrdP"
      }
    },
    {
      "cell_type": "markdown",
      "source": [
        "#### Chart - 5"
      ],
      "metadata": {
        "id": "bamQiAODYuh1"
      }
    },
    {
      "cell_type": "code",
      "source": [
        "# Chart - 5 visualization code\n",
        "\n",
        "import matplotlib.pyplot as plt\n",
        "\n",
        "\n",
        "sizes = read_data['is_repeated_guest'].value_counts()\n",
        "labels = ['First-time Guest' if label == 0 else 'Repeated Guest' for label in read_data['is_repeated_guest'].unique()]\n",
        "\n",
        "plt.figure(figsize=(8, 8))\n",
        "\n",
        "plt.pie(sizes, labels=labels, autopct='%1.1f%%',startangle=30)\n",
        "\n",
        "plt.legend(title=\"percentage of guest repeated\",\n",
        "           loc=\"best\",\n",
        "           bbox_to_anchor=(1, 0.2))\n",
        "\n",
        "plt.title(\"Guest repetition\",pad =50)\n",
        "\n",
        "plt.axis('equal')\n",
        "\n",
        "plt.show()"
      ],
      "metadata": {
        "id": "TIJwrbroYuh3"
      },
      "execution_count": null,
      "outputs": []
    },
    {
      "cell_type": "markdown",
      "source": [
        "##### 1. Why did you pick the specific chart?"
      ],
      "metadata": {
        "id": "QHF8YVU7Yuh3"
      }
    },
    {
      "cell_type": "markdown",
      "source": [
        "**To show the percentage share of repeated & non-repeated guests.**"
      ],
      "metadata": {
        "id": "dcxuIMRPYuh3"
      }
    },
    {
      "cell_type": "markdown",
      "source": [
        "##### 2. What is/are the insight(s) found from the chart?"
      ],
      "metadata": {
        "id": "GwzvFGzlYuh3"
      }
    },
    {
      "cell_type": "markdown",
      "source": [
        "**Here,we can see that the number of repeated guests is very less as compared to overall guests**"
      ],
      "metadata": {
        "id": "uyqkiB8YYuh3"
      }
    },
    {
      "cell_type": "markdown",
      "source": [
        "##### 3. Will the gained insights help creating a positive business impact?\n",
        "Are there any insights that lead to negative growth? Justify with specific reason."
      ],
      "metadata": {
        "id": "qYpmQ266Yuh3"
      }
    },
    {
      "cell_type": "markdown",
      "source": [
        "**We can give alluring offers to non-repetitive customers during off seasons to enhance revenue**"
      ],
      "metadata": {
        "id": "_WtzZ_hCYuh4"
      }
    },
    {
      "cell_type": "markdown",
      "source": [
        "#### Chart - 6"
      ],
      "metadata": {
        "id": "OH-pJp9IphqM"
      }
    },
    {
      "cell_type": "code",
      "source": [
        "# Chart - 6 visualization code\n",
        "\n",
        "import seaborn as sns\n",
        "import matplotlib.pyplot as plt\n",
        "\n",
        "\n",
        "plt.figure(figsize=(10, 7))\n",
        "sns.barplot(x=read_data[\"assigned_room_type\"].value_counts().index,\n",
        "            y=read_data[\"assigned_room_type\"].value_counts(),\n",
        "            palette=\"seismic\")\n",
        "\n",
        "plt.xlabel(\"Room Type\")\n",
        "plt.ylabel(\"Count\")\n",
        "plt.title(\"Allocation of room type\")\n",
        "\n",
        "\n",
        "plt.xticks(rotation=0)\n",
        "\n",
        "plt.show()\n",
        "\n"
      ],
      "metadata": {
        "id": "kuRf4wtuphqN"
      },
      "execution_count": null,
      "outputs": []
    },
    {
      "cell_type": "markdown",
      "source": [
        "##### 1. Why did you pick the specific chart?"
      ],
      "metadata": {
        "id": "bbFf2-_FphqN"
      }
    },
    {
      "cell_type": "markdown",
      "source": [
        "**To show distribution by volume, which room is alotted**"
      ],
      "metadata": {
        "id": "loh7H2nzphqN"
      }
    },
    {
      "cell_type": "markdown",
      "source": [
        "##### 2. What is/are the insight(s) found from the chart?"
      ],
      "metadata": {
        "id": "_ouA3fa0phqN"
      }
    },
    {
      "cell_type": "markdown",
      "source": [
        "**This chart shows room type 'A' is most prefered by guest.**"
      ],
      "metadata": {
        "id": "VECbqPI7phqN"
      }
    },
    {
      "cell_type": "markdown",
      "source": [
        "##### 3. Will the gained insights help creating a positive business impact?\n",
        "Are there any insights that lead to negative growth? Justify with specific reason."
      ],
      "metadata": {
        "id": "Seke61FWphqN"
      }
    },
    {
      "cell_type": "markdown",
      "source": [
        "**Yes,Positive impact because 'A','D','E' is more prefered by guest due to better services offered in room type**"
      ],
      "metadata": {
        "id": "DW4_bGpfphqN"
      }
    },
    {
      "cell_type": "markdown",
      "source": [
        "#### Chart - 7"
      ],
      "metadata": {
        "id": "PIIx-8_IphqN"
      }
    },
    {
      "cell_type": "code",
      "source": [
        "# Chart - 7 visualization code\n",
        "\n",
        "import seaborn as sns\n",
        "import matplotlib.pyplot as plt\n",
        "\n",
        "\n",
        "plt.figure(figsize=(10, 7))\n",
        "sns.barplot(x=read_data[\"market_segment\"].value_counts().index,\n",
        "            y=read_data[\"market_segment\"].value_counts(),\n",
        "            palette=\"flare\")\n",
        "\n",
        "plt.xlabel(\"market segments\")\n",
        "plt.ylabel(\"Count\")\n",
        "plt.title(\"Booking on the basis of market segment\")\n",
        "\n",
        "\n",
        "plt.xticks(rotation=0)\n",
        "\n",
        "plt.show()\n",
        "\n"
      ],
      "metadata": {
        "id": "lqAIGUfyphqO"
      },
      "execution_count": null,
      "outputs": []
    },
    {
      "cell_type": "markdown",
      "source": [
        "##### 1. Why did you pick the specific chart?"
      ],
      "metadata": {
        "id": "t27r6nlMphqO"
      }
    },
    {
      "cell_type": "markdown",
      "source": [
        "**In this chart,we have seen market segment by which  hotel has booked**"
      ],
      "metadata": {
        "id": "iv6ro40sphqO"
      }
    },
    {
      "cell_type": "markdown",
      "source": [
        "##### 2. What is/are the insight(s) found from the chart?"
      ],
      "metadata": {
        "id": "r2jJGEOYphqO"
      }
    },
    {
      "cell_type": "markdown",
      "source": [
        "**Online TA has used most frequently to book hotel by the guest**"
      ],
      "metadata": {
        "id": "Po6ZPi4hphqO"
      }
    },
    {
      "cell_type": "markdown",
      "source": [
        "##### 3. Will the gained insights help creating a positive business impact?\n",
        "Are there any insights that lead to negative growth? Justify with specific reason."
      ],
      "metadata": {
        "id": "b0JNsNcRphqO"
      }
    },
    {
      "cell_type": "markdown",
      "source": [
        "**Yes, it is creating positive business impact that guest are using online TA market segment as most prefered to book hotels**\n",
        "\n",
        "\n"
      ],
      "metadata": {
        "id": "xvSq8iUTphqO"
      }
    },
    {
      "cell_type": "markdown",
      "source": [
        "#### Chart - 8"
      ],
      "metadata": {
        "id": "BZR9WyysphqO"
      }
    },
    {
      "cell_type": "code",
      "source": [
        "# Chart - 8 visualization code\n",
        "import seaborn as sns\n",
        "import matplotlib.pyplot as plt\n",
        "\n",
        "\n",
        "top_countries = read_data[\"country\"].value_counts().head(6).index\n",
        "\n",
        "plt.figure(figsize=(10, 7))\n",
        "\n",
        "filtered_data = read_data[read_data[\"country\"].isin(top_countries)]\n",
        "\n",
        "sns.barplot(x=filtered_data[\"country\"].value_counts().index,\n",
        "            y=filtered_data[\"country\"].value_counts(),\n",
        "            palette=\"rocket\", order=top_countries)\n",
        "\n",
        "plt.xlabel(\"Country\")\n",
        "plt.ylabel(\"Count\")\n",
        "plt.title(\"Booking on the basis of top 6 countries\")\n",
        "\n",
        "plt.xticks(rotation=45)\n",
        "\n",
        "plt.show()\n",
        "\n"
      ],
      "metadata": {
        "id": "TdPTWpAVphqO"
      },
      "execution_count": null,
      "outputs": []
    },
    {
      "cell_type": "markdown",
      "source": [
        "##### 1. Why did you pick the specific chart?"
      ],
      "metadata": {
        "id": "jj7wYXLtphqO"
      }
    },
    {
      "cell_type": "markdown",
      "source": [
        "**A chart of the top 6 nations is displayed**"
      ],
      "metadata": {
        "id": "Ob8u6rCTphqO"
      }
    },
    {
      "cell_type": "markdown",
      "source": [
        "##### 2. What is/are the insight(s) found from the chart?"
      ],
      "metadata": {
        "id": "eZrbJ2SmphqO"
      }
    },
    {
      "cell_type": "markdown",
      "source": [
        "**As we can see,the majority of the visitors are from Portugal**"
      ],
      "metadata": {
        "id": "mZtgC_hjphqO"
      }
    },
    {
      "cell_type": "markdown",
      "source": [
        "##### 3. Will the gained insights help creating a positive business impact?\n",
        "Are there any insights that lead to negative growth? Justify with specific reason."
      ],
      "metadata": {
        "id": "rFu4xreNphqO"
      }
    },
    {
      "cell_type": "markdown",
      "source": [
        "**To increase the number of customers, we can increase our marketing efforts and provide entiching deals to visitors from portugal.**"
      ],
      "metadata": {
        "id": "ey_0qi68phqO"
      }
    },
    {
      "cell_type": "markdown",
      "source": [
        "#### Chart - 9"
      ],
      "metadata": {
        "id": "YJ55k-q6phqO"
      }
    },
    {
      "cell_type": "code",
      "source": [
        "# Chart - 9 visualization code\n",
        "\n",
        "import seaborn as sns\n",
        "import matplotlib.pyplot as plt\n",
        "\n",
        "mean_adr_by_hotel = read_data.groupby('hotel')['adr'].mean().reset_index()\n",
        "\n",
        "plt.figure(figsize=(6, 4))\n",
        "\n",
        "sns.barplot(x='adr', y='hotel', data=mean_adr_by_hotel, palette=\"twilight\")\n",
        "\n",
        "plt.xlabel(\"Hotel\")\n",
        "plt.ylabel(\"Average Daily Rate (ADR)\")\n",
        "plt.title(\"Average Daily Rate (ADR) by Hotel\")\n",
        "\n",
        "plt.xticks(rotation=0)\n",
        "\n",
        "plt.show()\n",
        "\n",
        "\n"
      ],
      "metadata": {
        "id": "B2aS4O1ophqO"
      },
      "execution_count": null,
      "outputs": []
    },
    {
      "cell_type": "markdown",
      "source": [
        "##### 1. Why did you pick the specific chart?"
      ],
      "metadata": {
        "id": "gCFgpxoyphqP"
      }
    },
    {
      "cell_type": "markdown",
      "source": [
        "**In this chart,we have seen mean average daily rate for hotel**"
      ],
      "metadata": {
        "id": "TVxDimi2phqP"
      }
    },
    {
      "cell_type": "markdown",
      "source": [
        "##### 2. What is/are the insight(s) found from the chart?"
      ],
      "metadata": {
        "id": "OVtJsKN_phqQ"
      }
    },
    {
      "cell_type": "markdown",
      "source": [
        "**The insight from the above chart is that city hotel has more average daily rate than resort hotel**"
      ],
      "metadata": {
        "id": "ngGi97qjphqQ"
      }
    },
    {
      "cell_type": "markdown",
      "source": [
        "##### 3. Will the gained insights help creating a positive business impact?\n",
        "Are there any insights that lead to negative growth? Justify with specific reason."
      ],
      "metadata": {
        "id": "lssrdh5qphqQ"
      }
    },
    {
      "cell_type": "markdown",
      "source": [
        "**Yes, it is creating positive business impact that city hotel are having more adr but it is also seen that mangement need to work on resort hotel**"
      ],
      "metadata": {
        "id": "tBpY5ekJphqQ"
      }
    },
    {
      "cell_type": "markdown",
      "source": [
        "#### Chart - 10"
      ],
      "metadata": {
        "id": "U2RJ9gkRphqQ"
      }
    },
    {
      "cell_type": "code",
      "source": [
        "# Chart - 10 visualization code\n",
        "\n",
        "import seaborn as sns\n",
        "import matplotlib.pyplot as plt\n",
        "\n",
        "# Calculate total revenue for each hotel\n",
        "mean_adr_by_hotel = read_data.groupby('hotel').apply(lambda x: (x['adr'] * x['total_stays_at_night']).sum()).reset_index(name='total_revenue')\n",
        "\n",
        "plt.figure(figsize=(8, 6))\n",
        "\n",
        "# Create the horizontal bar plot with total revenue for each hotel\n",
        "sns.barplot(x='hotel', y='total_revenue', data=mean_adr_by_hotel, palette=\"mako\")\n",
        "\n",
        "plt.xlabel(\"Total Revenue\")\n",
        "plt.ylabel(\"Hotel\")\n",
        "plt.title(\"Total Revenue by Hotel\")\n",
        "\n",
        "plt.show()\n",
        "\n",
        "\n",
        "\n"
      ],
      "metadata": {
        "id": "GM7a4YP4phqQ"
      },
      "execution_count": null,
      "outputs": []
    },
    {
      "cell_type": "markdown",
      "source": [
        "##### 1. Why did you pick the specific chart?"
      ],
      "metadata": {
        "id": "1M8mcRywphqQ"
      }
    },
    {
      "cell_type": "markdown",
      "source": [
        "**In this chart,we have seen total revenue generation from both hotels**"
      ],
      "metadata": {
        "id": "8agQvks0phqQ"
      }
    },
    {
      "cell_type": "markdown",
      "source": [
        "##### 2. What is/are the insight(s) found from the chart?"
      ],
      "metadata": {
        "id": "tgIPom80phqQ"
      }
    },
    {
      "cell_type": "markdown",
      "source": [
        "**The insight from the above chart is that city hotel has maximum total revenue than resort hotel**"
      ],
      "metadata": {
        "id": "Qp13pnNzphqQ"
      }
    },
    {
      "cell_type": "markdown",
      "source": [
        "##### 3. Will the gained insights help creating a positive business impact?\n",
        "Are there any insights that lead to negative growth? Justify with specific reason."
      ],
      "metadata": {
        "id": "JMzcOPDDphqR"
      }
    },
    {
      "cell_type": "markdown",
      "source": [
        "Answer Here"
      ],
      "metadata": {
        "id": "R4Ka1PC2phqR"
      }
    },
    {
      "cell_type": "markdown",
      "source": [
        "#### Chart - 11"
      ],
      "metadata": {
        "id": "x-EpHcCOp1ci"
      }
    },
    {
      "cell_type": "code",
      "source": [
        "# Chart - 11 visualization code\n",
        "\n",
        "import seaborn as sns\n",
        "import matplotlib.pyplot as plt\n",
        "\n",
        "plt.figure(figsize=(10, 6))\n",
        "\n",
        "# Create a count plot for each meal type at a particular hotel\n",
        "sns.countplot(data=read_data, x='hotel', hue='meal', palette='dark')\n",
        "\n",
        "plt.xlabel(\"Hotel\")\n",
        "plt.ylabel(\"Count\")\n",
        "plt.title(\"Count of Each Meal Type at Each Hotel\")\n",
        "plt.legend(title='Meal')\n",
        "\n",
        "plt.show()\n",
        "\n",
        "\n"
      ],
      "metadata": {
        "id": "mAQTIvtqp1cj"
      },
      "execution_count": null,
      "outputs": []
    },
    {
      "cell_type": "markdown",
      "source": [
        "##### 1. Why did you pick the specific chart?"
      ],
      "metadata": {
        "id": "X_VqEhTip1ck"
      }
    },
    {
      "cell_type": "markdown",
      "source": [
        "**To display the visitor's prefered dining experiment hotel-wise**"
      ],
      "metadata": {
        "id": "-vsMzt_np1ck"
      }
    },
    {
      "cell_type": "markdown",
      "source": [
        "##### 2. What is/are the insight(s) found from the chart?"
      ],
      "metadata": {
        "id": "8zGJKyg5p1ck"
      }
    },
    {
      "cell_type": "markdown",
      "source": [
        "**BB is the most prefered meal**"
      ],
      "metadata": {
        "id": "ZYdMsrqVp1ck"
      }
    },
    {
      "cell_type": "markdown",
      "source": [
        "##### 3. Will the gained insights help creating a positive business impact?\n",
        "Are there any insights that lead to negative growth? Justify with specific reason."
      ],
      "metadata": {
        "id": "PVzmfK_Ep1ck"
      }
    },
    {
      "cell_type": "markdown",
      "source": [
        "**As you can see, guests at both hotels prefer the BB meal. In order to increase customer retention and draw in new customer, the hotel can serve more delicious meals during this dinner**"
      ],
      "metadata": {
        "id": "druuKYZpp1ck"
      }
    },
    {
      "cell_type": "markdown",
      "source": [
        "#### Chart - 12"
      ],
      "metadata": {
        "id": "n3dbpmDWp1ck"
      }
    },
    {
      "cell_type": "code",
      "source": [
        "# Chart - 12 visualization code\n",
        "import seaborn as sns\n",
        "import matplotlib.pyplot as plt\n",
        "\n",
        "plt.figure(figsize=(10, 10))\n",
        "\n",
        "# Create a count plot for each meal type at a particular hotel\n",
        "sns.barplot(data=read_data, x='distribution_channel', y='adr', hue='hotel')\n",
        "\n",
        "\n",
        "plt.title(\"ADR across Distribution channell\")\n",
        "plt.legend(title='hotel')\n",
        "\n",
        "plt.show()"
      ],
      "metadata": {
        "id": "bwevp1tKp1ck"
      },
      "execution_count": null,
      "outputs": []
    },
    {
      "cell_type": "markdown",
      "source": [
        "##### 1. Why did you pick the specific chart?"
      ],
      "metadata": {
        "id": "ylSl6qgtp1ck"
      }
    },
    {
      "cell_type": "markdown",
      "source": [
        "**To display the average daily rate of hotel across distribution channel**"
      ],
      "metadata": {
        "id": "m2xqNkiQp1ck"
      }
    },
    {
      "cell_type": "markdown",
      "source": [
        "##### 2. What is/are the insight(s) found from the chart?"
      ],
      "metadata": {
        "id": "ZWILFDl5p1ck"
      }
    },
    {
      "cell_type": "markdown",
      "source": [
        "**Above has the most adr of distribution channel**"
      ],
      "metadata": {
        "id": "x-lUsV2mp1ck"
      }
    },
    {
      "cell_type": "markdown",
      "source": [
        "##### 3. Will the gained insights help creating a positive business impact?\n",
        "Are there any insights that lead to negative growth? Justify with specific reason."
      ],
      "metadata": {
        "id": "M7G43BXep1ck"
      }
    },
    {
      "cell_type": "markdown",
      "source": [
        "Answer Here"
      ],
      "metadata": {
        "id": "5wwDJXsLp1cl"
      }
    },
    {
      "cell_type": "markdown",
      "source": [
        "#### Chart - 13"
      ],
      "metadata": {
        "id": "Ag9LCva-p1cl"
      }
    },
    {
      "cell_type": "code",
      "source": [
        "# Chart - 13 visualization code\n",
        "read_data.hist(figsize = (23,18))\n",
        "plt.show()"
      ],
      "metadata": {
        "id": "EUfxeq9-p1cl"
      },
      "execution_count": null,
      "outputs": []
    },
    {
      "cell_type": "markdown",
      "source": [
        "##### 1. Why did you pick the specific chart?"
      ],
      "metadata": {
        "id": "E6MkPsBcp1cl"
      }
    },
    {
      "cell_type": "markdown",
      "source": [
        "**This is used to show visuale representation of each column**"
      ],
      "metadata": {
        "id": "V22bRsFWp1cl"
      }
    },
    {
      "cell_type": "markdown",
      "source": [
        "##### 2. What is/are the insight(s) found from the chart?"
      ],
      "metadata": {
        "id": "2cELzS2fp1cl"
      }
    },
    {
      "cell_type": "markdown",
      "source": [
        "**This shows the comparision between quantity of particular columns**"
      ],
      "metadata": {
        "id": "ozQPc2_Ip1cl"
      }
    },
    {
      "cell_type": "markdown",
      "source": [
        "##### 3. Will the gained insights help creating a positive business impact?\n",
        "Are there any insights that lead to negative growth? Justify with specific reason."
      ],
      "metadata": {
        "id": "3MPXvC8up1cl"
      }
    },
    {
      "cell_type": "markdown",
      "source": [
        "Answer Here"
      ],
      "metadata": {
        "id": "GL8l1tdLp1cl"
      }
    },
    {
      "cell_type": "markdown",
      "source": [
        "#### Chart - 14 - Correlation Heatmap"
      ],
      "metadata": {
        "id": "NC_X3p0fY2L0"
      }
    },
    {
      "cell_type": "code",
      "source": [
        "# Correlation Heatmap visualization code\n",
        "corr_data = read_data[['lead_time','previous_bookings_not_canceled','total_guest','booking_changes','days_in_waiting_list','adr','required_car_parking_spaces','total_of_special_requests']].corr()\n",
        "f, ax = plt.subplots(figsize=(10,10))\n",
        "sns.heatmap(corr_data,annot=True, fmt='.2f',annot_kws={'size':10}, vmax=1,square=True,cmap=\"cividis\")"
      ],
      "metadata": {
        "id": "xyC9zolEZNRQ"
      },
      "execution_count": null,
      "outputs": []
    },
    {
      "cell_type": "markdown",
      "source": [
        "##### 1. Why did you pick the specific chart?"
      ],
      "metadata": {
        "id": "UV0SzAkaZNRQ"
      }
    },
    {
      "cell_type": "markdown",
      "source": [
        "**To compare the relationship among various numerical quantities**"
      ],
      "metadata": {
        "id": "DVPuT8LYZNRQ"
      }
    },
    {
      "cell_type": "markdown",
      "source": [
        "##### 2. What is/are the insight(s) found from the chart?"
      ],
      "metadata": {
        "id": "YPEH6qLeZNRQ"
      }
    },
    {
      "cell_type": "markdown",
      "source": [
        "**The axis highest correlation value is 39% positive and its lowest vak=lue is -9% negative**"
      ],
      "metadata": {
        "id": "bfSqtnDqZNRR"
      }
    },
    {
      "cell_type": "markdown",
      "source": [
        "#### Chart - 15 - Pair Plot"
      ],
      "metadata": {
        "id": "q29F0dvdveiT"
      }
    },
    {
      "cell_type": "code",
      "source": [
        "# Pair Plot visualization code\n",
        "\n",
        "import seaborn as sns\n",
        "import matplotlib.pyplot as plt\n",
        "import pandas as pd\n",
        "\n",
        "# Load your hotel booking dataset\n",
        "\n",
        "\n",
        "# Create pair plot\n",
        "sns.pairplot(data = read_data,\n",
        "             vars=['adults', 'children', 'babies',],\n",
        "             hue='hotel', palette='Set1')\n",
        "\n",
        "# Adjust title\n",
        "plt.suptitle(\"Pair Plot of Hotel Booking Data\", y=1)\n",
        "\n",
        "plt.show()\n"
      ],
      "metadata": {
        "id": "o58-TEIhveiU"
      },
      "execution_count": null,
      "outputs": []
    },
    {
      "cell_type": "markdown",
      "source": [
        "##### 1. Why did you pick the specific chart?"
      ],
      "metadata": {
        "id": "EXh0U9oCveiU"
      }
    },
    {
      "cell_type": "markdown",
      "source": [
        "**We use this chart to check the age group across hotel**"
      ],
      "metadata": {
        "id": "eMmPjTByveiU"
      }
    },
    {
      "cell_type": "markdown",
      "source": [
        "##### 2. What is/are the insight(s) found from the chart?"
      ],
      "metadata": {
        "id": "22aHeOlLveiV"
      }
    },
    {
      "cell_type": "markdown",
      "source": [
        "**The insight found from the chart is we can see the ploting of bunches acorss hotel**"
      ],
      "metadata": {
        "id": "uPQ8RGwHveiV"
      }
    },
    {
      "cell_type": "markdown",
      "source": [
        "## **5. Solution to Business Objective**"
      ],
      "metadata": {
        "id": "JcMwzZxoAimU"
      }
    },
    {
      "cell_type": "markdown",
      "source": [
        "#### What do you suggest the client to achieve Business Objective ?\n",
        "Explain Briefly."
      ],
      "metadata": {
        "id": "8G2x9gOozGDZ"
      }
    },
    {
      "cell_type": "markdown",
      "source": [
        "1. In order for the hotel industry to prosper, a few factors must be taken into account, including high revenue generation, customer happiness,and employee retention.\n",
        "2. By using a pie chart distribution, we can demonstrate to the client which months generate the most money.\n",
        "3. Increasing revenue by using a bar chart to show which types of rooms are most frequently booked and when visitors are most likely to travel.\n",
        "4. As a result, the customer can be properly prepared in advance, minimising long-term complaints and contributing to further improvement of their hospitality.\n",
        "5. To encourage clients to contact offices for bulk reservations during the off-season, outllers such as larger visitor numbers than average were sprinkled across the plot. This helped generate more money.\n",
        "6. We can display the visitor arrivals trend at client venues, allowing clients to schedule visitors in advance for their entertainment and leisure activities.\n",
        "7. In order for the percentages underneath those numbers to be improved by a variety of mediums, we were also able to correlate the values Indicating the maximum and minimum % between them."
      ],
      "metadata": {
        "id": "pASKb0qOza21"
      }
    },
    {
      "cell_type": "markdown",
      "source": [
        "# **Conclusion**"
      ],
      "metadata": {
        "id": "gCX9965dhzqZ"
      }
    },
    {
      "cell_type": "markdown",
      "source": [
        "1. City Hotel generates greater income and profit and appears to be more popular among travellers.\n",
        "2. Compared to the other months, the majority of reservations are made in July and August.\n",
        "3. Travellers favo accommodation Type A over all other accommodation types.\n",
        "4. Portugal and the United Kingdom make the most reservations.\n",
        "5. The majority of visitors stay in hotols for 1-4 days\n",
        "6. The City Hotel keeps a larger number of visitors\n",
        "7. About one-Fourth of all reservations are cancelled. City Hotel is the source of more cancellations\n",
        "8. Compared to retuming consumers, new guests frequently cancel reservations.\n",
        "9. Booking cancellations are unaffected by lead time, waiting list length, or client assignment of a reserved room.\n",
        "\n",
        "10. Corporate has the most percentage of repeated guests while TA/TO has the least whereas in the case of cancelled bookings TA/TO has the most percentage while Corporate has the least.\n",
        "\n",
        "11. The length of the stay decreases as ADR increases probably to reduce the cost."
      ],
      "metadata": {
        "id": "Fjb1IsQkh3yE"
      }
    },
    {
      "cell_type": "markdown",
      "source": [
        "### ***Hurrah! You have successfully completed your EDA Capstone Project !!!***"
      ],
      "metadata": {
        "id": "gIfDvo9L0UH2"
      }
    }
  ]
}